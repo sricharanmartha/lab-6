{
  "nbformat": 4,
  "nbformat_minor": 0,
  "metadata": {
    "colab": {
      "provenance": []
    },
    "kernelspec": {
      "name": "python3",
      "display_name": "Python 3"
    },
    "language_info": {
      "name": "python"
    }
  },
  "cells": [
    {
      "cell_type": "code",
      "execution_count": 26,
      "metadata": {
        "colab": {
          "base_uri": "https://localhost:8080/"
        },
        "id": "B4f9um2p1Wse",
        "outputId": "c812210e-0e67-4e0e-8d92-6d6967bc19b4"
      },
      "outputs": [
        {
          "output_type": "stream",
          "name": "stdout",
          "text": [
            "Predicted values: [85.53287486 84.9897586  84.57266713 84.2613678  84.67354211 84.17160274\n",
            " 85.47241786 84.12201288 84.70939585 84.527333  ]\n",
            "Mean Squared Error: 0.28835671464172846\n",
            "Ridge Regression: 0.25985694674986465\n",
            "Lasso Regression: 0.20130390928631847\n"
          ]
        }
      ],
      "source": [
        "import pandas as pd\n",
        "import numpy as np\n",
        "from sklearn.model_selection import train_test_split\n",
        "from sklearn.linear_model import LinearRegression\n",
        "from sklearn.linear_model import Ridge\n",
        "from sklearn.linear_model import Lasso\n",
        "data = pd.read_csv('/content/Japan_life_expectancy.csv')\n",
        "\n",
        "\n",
        "y = data['Life_expectancy']\n",
        "\n",
        "\n",
        "X = data.drop([\"Life_expectancy\", \"Prefecture\"], axis=1)\n",
        "\n",
        "\n",
        "X_train, X_test, y_train, y_test = train_test_split(X, y, test_size=0.2, random_state=42)\n",
        "\n",
        "\n",
        "model = LinearRegression()\n",
        "model.fit(X_train, y_train)\n",
        "\n",
        "y_pred = model.predict(X_test)\n",
        "\n",
        "print(\"Predicted values:\", y_pred)\n",
        "\n",
        "from sklearn.metrics import mean_squared_error\n",
        "\n",
        "mse = mean_squared_error(y_test, y_pred)\n",
        "\n",
        "print(\"Mean Squared Error:\", mse)\n",
        "\n",
        "\n",
        "alpha = 1.0\n",
        "ridge_model = Ridge(alpha=alpha)\n",
        "\n",
        "\n",
        "ridge_model.fit(X_train, y_train)\n",
        "\n",
        "\n",
        "y_pred = ridge_model.predict(X_test)\n",
        "\n",
        "\n",
        "mse = mean_squared_error(y_test, y_pred)\n",
        "\n",
        "print(\"Ridge Regression:\", mse)\n",
        "\n",
        "alpha = 1.0\n",
        "lasso_model = Lasso(alpha=alpha)\n",
        "\n",
        "lasso_model.fit(X_train, y_train)\n",
        "\n",
        "y_pred = lasso_model.predict(X_test)\n",
        "\n",
        "\n",
        "mse = mean_squared_error(y_test, y_pred)\n",
        "\n",
        "print(\"Lasso Regression:\", mse)"
      ]
    }
  ]
}